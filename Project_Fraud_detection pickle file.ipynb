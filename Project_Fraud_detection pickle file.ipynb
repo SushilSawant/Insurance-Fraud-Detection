{
 "cells": [
  {
   "cell_type": "markdown",
   "metadata": {
    "id": "c01f7ca8"
   },
   "source": [
    "### Save the trained model"
   ]
  },
  {
   "cell_type": "code",
   "execution_count": 16,
   "metadata": {
    "id": "bc604706"
   },
   "outputs": [],
   "source": [
    "import pickle\n",
    "import pandas as pd \n",
    "import numpy as np"
   ]
  },
  {
   "cell_type": "code",
   "execution_count": 22,
   "metadata": {},
   "outputs": [],
   "source": [
    "insurance_data=pd.read_csv('Insurance_cleaned.csv')"
   ]
  },
  {
   "cell_type": "markdown",
   "metadata": {
    "id": "135ba65d"
   },
   "source": [
    "### Loding the saved model"
   ]
  },
  {
   "cell_type": "code",
   "execution_count": 23,
   "metadata": {
    "id": "397ba967"
   },
   "outputs": [],
   "source": [
    "load_model=pickle.load(open('final_model.sav','rb'))"
   ]
  },
  {
   "cell_type": "code",
   "execution_count": 24,
   "metadata": {
    "id": "aa997b15",
    "outputId": "2e285eb0-bc17-448b-9875-c1295a8b79c4"
   },
   "outputs": [
    {
     "data": {
      "text/plain": [
       "RandomForestClassifier(criterion='entropy', max_depth=18, n_estimators=25,\n",
       "                       n_jobs=-1, oob_score=True)"
      ]
     },
     "execution_count": 24,
     "metadata": {},
     "output_type": "execute_result"
    }
   ],
   "source": [
    "load_model"
   ]
  },
  {
   "cell_type": "markdown",
   "metadata": {
    "id": "37535cf7"
   },
   "source": [
    "### Making a predictive system"
   ]
  },
  {
   "cell_type": "code",
   "execution_count": 25,
   "metadata": {
    "id": "5805f599",
    "outputId": "9df5a107-9d20-40ba-f4ed-e240230d0314"
   },
   "outputs": [
    {
     "name": "stdout",
     "output_type": "stream",
     "text": [
      "[0]\n",
      "The claim is Fraud Claim\n"
     ]
    },
    {
     "name": "stderr",
     "output_type": "stream",
     "text": [
      "C:\\Anaconda3-2021\\lib\\site-packages\\sklearn\\base.py:450: UserWarning: X does not have valid feature names, but RandomForestClassifier was fitted with feature names\n",
      "  warnings.warn(\n"
     ]
    }
   ],
   "source": [
    "input_data= (6,1,1,0,3,0,2,0,7,175,134,305,1.0,0,0,0,0,4755.0,1)\n",
    "# changing the input data to numpy arrey\n",
    "input_data_as_numpy_arrey=np.array(input_data)\n",
    "\n",
    "# reshape the arrey as we are predicting for one instance\n",
    "input_data_reshaped=input_data_as_numpy_arrey.reshape(1,-1)\n",
    "\n",
    "prediction =load_model.predict(input_data_reshaped)\n",
    "print(prediction)\n",
    "\n",
    "if (prediction[0]==0):\n",
    "    print('The claim is Fraud Claim')\n",
    "else:\n",
    "    print('The claim is Genuine Claim')"
   ]
  },
  {
   "cell_type": "code",
   "execution_count": 30,
   "metadata": {},
   "outputs": [
    {
     "name": "stdout",
     "output_type": "stream",
     "text": [
      "[1]\n",
      "Genuine\n"
     ]
    },
    {
     "name": "stderr",
     "output_type": "stream",
     "text": [
      "C:\\Anaconda3-2021\\lib\\site-packages\\sklearn\\base.py:450: UserWarning: X does not have valid feature names, but RandomForestClassifier was fitted with feature names\n",
      "  warnings.warn(\n"
     ]
    }
   ],
   "source": [
    "input_data=(1,1,2,0,3,0,4,0,7,122,0,237,1,0,0,1,1,5511.95,1\n",
    "#changing the input data to numpy arrey\n",
    "np_input_data=np.asarray(input_data)\n",
    "# reshape the arrey as we are predicting for one instance\n",
    "input_data_shape=np_input_data.reshape(1,-1)\n",
    "            \n",
    "prediction=load_model.predict(input_data_shape)\n",
    "print(prediction)\n",
    "if (prediction[0] == 0):\n",
    "    print(\"Fraud\")\n",
    "else: \n",
    "    print(\"Genuine\")"
   ]
  },
  {
   "cell_type": "code",
   "execution_count": 26,
   "metadata": {
    "id": "e9264694",
    "outputId": "fd1b229e-4f43-49d5-bdd6-117ed524998f"
   },
   "outputs": [
    {
     "data": {
      "text/plain": [
       "Index(['Area_Service', 'Hospital_County', 'Age', 'Gender', 'Cultural_group',\n",
       "       'ethnicity', 'Days_spend_hsptl', 'Admission_type', 'Home_or_self_care',\n",
       "       'ccs_diagnosis_code', 'ccs_procedure_code', 'apr_drg_description',\n",
       "       'Mortality_risk', 'Surg_Description', 'Weight_baby', 'Abortion',\n",
       "       'Emergency_dept', 'Tot_charg', 'Result', 'Payment_Typology'],\n",
       "      dtype='object')"
      ]
     },
     "execution_count": 26,
     "metadata": {},
     "output_type": "execute_result"
    }
   ],
   "source": [
    "insurance_data.columns"
   ]
  },
  {
   "cell_type": "code",
   "execution_count": null,
   "metadata": {},
   "outputs": [],
   "source": []
  },
  {
   "cell_type": "code",
   "execution_count": null,
   "metadata": {
    "id": "7b61a166"
   },
   "outputs": [],
   "source": []
  },
  {
   "cell_type": "code",
   "execution_count": null,
   "metadata": {
    "id": "1282f248"
   },
   "outputs": [],
   "source": []
  }
 ],
 "metadata": {
  "colab": {
   "name": "pickle",
   "provenance": []
  },
  "kernelspec": {
   "display_name": "Python 3 (ipykernel)",
   "language": "python",
   "name": "python3"
  },
  "language_info": {
   "codemirror_mode": {
    "name": "ipython",
    "version": 3
   },
   "file_extension": ".py",
   "mimetype": "text/x-python",
   "name": "python",
   "nbconvert_exporter": "python",
   "pygments_lexer": "ipython3",
   "version": "3.9.7"
  }
 },
 "nbformat": 4,
 "nbformat_minor": 1
}
